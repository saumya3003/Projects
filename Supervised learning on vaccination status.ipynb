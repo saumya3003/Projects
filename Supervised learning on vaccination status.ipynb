{
 "cells": [
  {
   "cell_type": "code",
   "execution_count": 191,
   "id": "56395cde",
   "metadata": {},
   "outputs": [],
   "source": [
    "import numpy as np\n",
    "import pandas as pd\n",
    "import seaborn as sns\n",
    "from matplotlib import pyplot as plt\n",
    "%matplotlib inline\n",
    "from sklearn.model_selection import train_test_split\n",
    "from sklearn.linear_model import LogisticRegression"
   ]
  },
  {
   "cell_type": "code",
   "execution_count": 192,
   "id": "4cf260dc",
   "metadata": {},
   "outputs": [],
   "source": [
    "data=pd.read_csv(\"h1n1_vaccine_prediction.csv\")"
   ]
  },
  {
   "cell_type": "code",
   "execution_count": 193,
   "id": "f0d3f396",
   "metadata": {},
   "outputs": [
    {
     "data": {
      "text/html": [
       "<div>\n",
       "<style scoped>\n",
       "    .dataframe tbody tr th:only-of-type {\n",
       "        vertical-align: middle;\n",
       "    }\n",
       "\n",
       "    .dataframe tbody tr th {\n",
       "        vertical-align: top;\n",
       "    }\n",
       "\n",
       "    .dataframe thead th {\n",
       "        text-align: right;\n",
       "    }\n",
       "</style>\n",
       "<table border=\"1\" class=\"dataframe\">\n",
       "  <thead>\n",
       "    <tr style=\"text-align: right;\">\n",
       "      <th></th>\n",
       "      <th>unique_id</th>\n",
       "      <th>h1n1_worry</th>\n",
       "      <th>h1n1_awareness</th>\n",
       "      <th>antiviral_medication</th>\n",
       "      <th>contact_avoidance</th>\n",
       "      <th>bought_face_mask</th>\n",
       "      <th>wash_hands_frequently</th>\n",
       "      <th>avoid_large_gatherings</th>\n",
       "      <th>reduced_outside_home_cont</th>\n",
       "      <th>avoid_touch_face</th>\n",
       "      <th>...</th>\n",
       "      <th>race</th>\n",
       "      <th>sex</th>\n",
       "      <th>income_level</th>\n",
       "      <th>marital_status</th>\n",
       "      <th>housing_status</th>\n",
       "      <th>employment</th>\n",
       "      <th>census_msa</th>\n",
       "      <th>no_of_adults</th>\n",
       "      <th>no_of_children</th>\n",
       "      <th>h1n1_vaccine</th>\n",
       "    </tr>\n",
       "  </thead>\n",
       "  <tbody>\n",
       "    <tr>\n",
       "      <th>0</th>\n",
       "      <td>0</td>\n",
       "      <td>1.0</td>\n",
       "      <td>0.0</td>\n",
       "      <td>0.0</td>\n",
       "      <td>0.0</td>\n",
       "      <td>0.0</td>\n",
       "      <td>0.0</td>\n",
       "      <td>0.0</td>\n",
       "      <td>1.0</td>\n",
       "      <td>1.0</td>\n",
       "      <td>...</td>\n",
       "      <td>White</td>\n",
       "      <td>Female</td>\n",
       "      <td>Below Poverty</td>\n",
       "      <td>Not Married</td>\n",
       "      <td>Own</td>\n",
       "      <td>Not in Labor Force</td>\n",
       "      <td>Non-MSA</td>\n",
       "      <td>0.0</td>\n",
       "      <td>0.0</td>\n",
       "      <td>0</td>\n",
       "    </tr>\n",
       "    <tr>\n",
       "      <th>1</th>\n",
       "      <td>1</td>\n",
       "      <td>3.0</td>\n",
       "      <td>2.0</td>\n",
       "      <td>0.0</td>\n",
       "      <td>1.0</td>\n",
       "      <td>0.0</td>\n",
       "      <td>1.0</td>\n",
       "      <td>0.0</td>\n",
       "      <td>1.0</td>\n",
       "      <td>1.0</td>\n",
       "      <td>...</td>\n",
       "      <td>White</td>\n",
       "      <td>Male</td>\n",
       "      <td>Below Poverty</td>\n",
       "      <td>Not Married</td>\n",
       "      <td>Rent</td>\n",
       "      <td>Employed</td>\n",
       "      <td>MSA, Not Principle  City</td>\n",
       "      <td>0.0</td>\n",
       "      <td>0.0</td>\n",
       "      <td>0</td>\n",
       "    </tr>\n",
       "    <tr>\n",
       "      <th>2</th>\n",
       "      <td>2</td>\n",
       "      <td>1.0</td>\n",
       "      <td>1.0</td>\n",
       "      <td>0.0</td>\n",
       "      <td>1.0</td>\n",
       "      <td>0.0</td>\n",
       "      <td>0.0</td>\n",
       "      <td>0.0</td>\n",
       "      <td>0.0</td>\n",
       "      <td>0.0</td>\n",
       "      <td>...</td>\n",
       "      <td>White</td>\n",
       "      <td>Male</td>\n",
       "      <td>&lt;= $75,000, Above Poverty</td>\n",
       "      <td>Not Married</td>\n",
       "      <td>Own</td>\n",
       "      <td>Employed</td>\n",
       "      <td>MSA, Not Principle  City</td>\n",
       "      <td>2.0</td>\n",
       "      <td>0.0</td>\n",
       "      <td>0</td>\n",
       "    </tr>\n",
       "    <tr>\n",
       "      <th>3</th>\n",
       "      <td>3</td>\n",
       "      <td>1.0</td>\n",
       "      <td>1.0</td>\n",
       "      <td>0.0</td>\n",
       "      <td>1.0</td>\n",
       "      <td>0.0</td>\n",
       "      <td>1.0</td>\n",
       "      <td>1.0</td>\n",
       "      <td>0.0</td>\n",
       "      <td>0.0</td>\n",
       "      <td>...</td>\n",
       "      <td>White</td>\n",
       "      <td>Female</td>\n",
       "      <td>Below Poverty</td>\n",
       "      <td>Not Married</td>\n",
       "      <td>Rent</td>\n",
       "      <td>Not in Labor Force</td>\n",
       "      <td>MSA, Principle City</td>\n",
       "      <td>0.0</td>\n",
       "      <td>0.0</td>\n",
       "      <td>0</td>\n",
       "    </tr>\n",
       "    <tr>\n",
       "      <th>4</th>\n",
       "      <td>4</td>\n",
       "      <td>2.0</td>\n",
       "      <td>1.0</td>\n",
       "      <td>0.0</td>\n",
       "      <td>1.0</td>\n",
       "      <td>0.0</td>\n",
       "      <td>1.0</td>\n",
       "      <td>1.0</td>\n",
       "      <td>0.0</td>\n",
       "      <td>1.0</td>\n",
       "      <td>...</td>\n",
       "      <td>White</td>\n",
       "      <td>Female</td>\n",
       "      <td>&lt;= $75,000, Above Poverty</td>\n",
       "      <td>Married</td>\n",
       "      <td>Own</td>\n",
       "      <td>Employed</td>\n",
       "      <td>MSA, Not Principle  City</td>\n",
       "      <td>1.0</td>\n",
       "      <td>0.0</td>\n",
       "      <td>0</td>\n",
       "    </tr>\n",
       "  </tbody>\n",
       "</table>\n",
       "<p>5 rows × 34 columns</p>\n",
       "</div>"
      ],
      "text/plain": [
       "   unique_id  h1n1_worry  h1n1_awareness  antiviral_medication  \\\n",
       "0          0         1.0             0.0                   0.0   \n",
       "1          1         3.0             2.0                   0.0   \n",
       "2          2         1.0             1.0                   0.0   \n",
       "3          3         1.0             1.0                   0.0   \n",
       "4          4         2.0             1.0                   0.0   \n",
       "\n",
       "   contact_avoidance  bought_face_mask  wash_hands_frequently  \\\n",
       "0                0.0               0.0                    0.0   \n",
       "1                1.0               0.0                    1.0   \n",
       "2                1.0               0.0                    0.0   \n",
       "3                1.0               0.0                    1.0   \n",
       "4                1.0               0.0                    1.0   \n",
       "\n",
       "   avoid_large_gatherings  reduced_outside_home_cont  avoid_touch_face  ...  \\\n",
       "0                     0.0                        1.0               1.0  ...   \n",
       "1                     0.0                        1.0               1.0  ...   \n",
       "2                     0.0                        0.0               0.0  ...   \n",
       "3                     1.0                        0.0               0.0  ...   \n",
       "4                     1.0                        0.0               1.0  ...   \n",
       "\n",
       "    race     sex               income_level  marital_status  housing_status  \\\n",
       "0  White  Female              Below Poverty     Not Married             Own   \n",
       "1  White    Male              Below Poverty     Not Married            Rent   \n",
       "2  White    Male  <= $75,000, Above Poverty     Not Married             Own   \n",
       "3  White  Female              Below Poverty     Not Married            Rent   \n",
       "4  White  Female  <= $75,000, Above Poverty         Married             Own   \n",
       "\n",
       "           employment                census_msa  no_of_adults  no_of_children  \\\n",
       "0  Not in Labor Force                   Non-MSA           0.0             0.0   \n",
       "1            Employed  MSA, Not Principle  City           0.0             0.0   \n",
       "2            Employed  MSA, Not Principle  City           2.0             0.0   \n",
       "3  Not in Labor Force       MSA, Principle City           0.0             0.0   \n",
       "4            Employed  MSA, Not Principle  City           1.0             0.0   \n",
       "\n",
       "   h1n1_vaccine  \n",
       "0             0  \n",
       "1             0  \n",
       "2             0  \n",
       "3             0  \n",
       "4             0  \n",
       "\n",
       "[5 rows x 34 columns]"
      ]
     },
     "execution_count": 193,
     "metadata": {},
     "output_type": "execute_result"
    }
   ],
   "source": [
    "data.head()"
   ]
  },
  {
   "cell_type": "code",
   "execution_count": 194,
   "id": "f6644fc4",
   "metadata": {},
   "outputs": [
    {
     "name": "stdout",
     "output_type": "stream",
     "text": [
      "<class 'pandas.core.frame.DataFrame'>\n",
      "RangeIndex: 26707 entries, 0 to 26706\n",
      "Data columns (total 34 columns):\n",
      " #   Column                     Non-Null Count  Dtype  \n",
      "---  ------                     --------------  -----  \n",
      " 0   unique_id                  26707 non-null  int64  \n",
      " 1   h1n1_worry                 26615 non-null  float64\n",
      " 2   h1n1_awareness             26591 non-null  float64\n",
      " 3   antiviral_medication       26636 non-null  float64\n",
      " 4   contact_avoidance          26499 non-null  float64\n",
      " 5   bought_face_mask           26688 non-null  float64\n",
      " 6   wash_hands_frequently      26665 non-null  float64\n",
      " 7   avoid_large_gatherings     26620 non-null  float64\n",
      " 8   reduced_outside_home_cont  26625 non-null  float64\n",
      " 9   avoid_touch_face           26579 non-null  float64\n",
      " 10  dr_recc_h1n1_vacc          24547 non-null  float64\n",
      " 11  dr_recc_seasonal_vacc      24547 non-null  float64\n",
      " 12  chronic_medic_condition    25736 non-null  float64\n",
      " 13  cont_child_undr_6_mnths    25887 non-null  float64\n",
      " 14  is_health_worker           25903 non-null  float64\n",
      " 15  has_health_insur           14433 non-null  float64\n",
      " 16  is_h1n1_vacc_effective     26316 non-null  float64\n",
      " 17  is_h1n1_risky              26319 non-null  float64\n",
      " 18  sick_from_h1n1_vacc        26312 non-null  float64\n",
      " 19  is_seas_vacc_effective     26245 non-null  float64\n",
      " 20  is_seas_risky              26193 non-null  float64\n",
      " 21  sick_from_seas_vacc        26170 non-null  float64\n",
      " 22  age_bracket                26707 non-null  object \n",
      " 23  qualification              25300 non-null  object \n",
      " 24  race                       26707 non-null  object \n",
      " 25  sex                        26707 non-null  object \n",
      " 26  income_level               22284 non-null  object \n",
      " 27  marital_status             25299 non-null  object \n",
      " 28  housing_status             24665 non-null  object \n",
      " 29  employment                 25244 non-null  object \n",
      " 30  census_msa                 26707 non-null  object \n",
      " 31  no_of_adults               26458 non-null  float64\n",
      " 32  no_of_children             26458 non-null  float64\n",
      " 33  h1n1_vaccine               26707 non-null  int64  \n",
      "dtypes: float64(23), int64(2), object(9)\n",
      "memory usage: 6.9+ MB\n"
     ]
    }
   ],
   "source": [
    "data.info()"
   ]
  },
  {
   "cell_type": "code",
   "execution_count": 195,
   "id": "a385296f",
   "metadata": {},
   "outputs": [
    {
     "data": {
      "text/html": [
       "<div>\n",
       "<style scoped>\n",
       "    .dataframe tbody tr th:only-of-type {\n",
       "        vertical-align: middle;\n",
       "    }\n",
       "\n",
       "    .dataframe tbody tr th {\n",
       "        vertical-align: top;\n",
       "    }\n",
       "\n",
       "    .dataframe thead th {\n",
       "        text-align: right;\n",
       "    }\n",
       "</style>\n",
       "<table border=\"1\" class=\"dataframe\">\n",
       "  <thead>\n",
       "    <tr style=\"text-align: right;\">\n",
       "      <th></th>\n",
       "      <th>unique_id</th>\n",
       "      <th>h1n1_worry</th>\n",
       "      <th>h1n1_awareness</th>\n",
       "      <th>antiviral_medication</th>\n",
       "      <th>contact_avoidance</th>\n",
       "      <th>bought_face_mask</th>\n",
       "      <th>wash_hands_frequently</th>\n",
       "      <th>avoid_large_gatherings</th>\n",
       "      <th>reduced_outside_home_cont</th>\n",
       "      <th>avoid_touch_face</th>\n",
       "      <th>...</th>\n",
       "      <th>has_health_insur</th>\n",
       "      <th>is_h1n1_vacc_effective</th>\n",
       "      <th>is_h1n1_risky</th>\n",
       "      <th>sick_from_h1n1_vacc</th>\n",
       "      <th>is_seas_vacc_effective</th>\n",
       "      <th>is_seas_risky</th>\n",
       "      <th>sick_from_seas_vacc</th>\n",
       "      <th>no_of_adults</th>\n",
       "      <th>no_of_children</th>\n",
       "      <th>h1n1_vaccine</th>\n",
       "    </tr>\n",
       "  </thead>\n",
       "  <tbody>\n",
       "    <tr>\n",
       "      <th>count</th>\n",
       "      <td>26707.000000</td>\n",
       "      <td>26615.000000</td>\n",
       "      <td>26591.000000</td>\n",
       "      <td>26636.000000</td>\n",
       "      <td>26499.000000</td>\n",
       "      <td>26688.000000</td>\n",
       "      <td>26665.000000</td>\n",
       "      <td>26620.00000</td>\n",
       "      <td>26625.000000</td>\n",
       "      <td>26579.000000</td>\n",
       "      <td>...</td>\n",
       "      <td>14433.00000</td>\n",
       "      <td>26316.000000</td>\n",
       "      <td>26319.000000</td>\n",
       "      <td>26312.000000</td>\n",
       "      <td>26245.000000</td>\n",
       "      <td>26193.000000</td>\n",
       "      <td>26170.000000</td>\n",
       "      <td>26458.000000</td>\n",
       "      <td>26458.000000</td>\n",
       "      <td>26707.000000</td>\n",
       "    </tr>\n",
       "    <tr>\n",
       "      <th>mean</th>\n",
       "      <td>13353.000000</td>\n",
       "      <td>1.618486</td>\n",
       "      <td>1.262532</td>\n",
       "      <td>0.048844</td>\n",
       "      <td>0.725612</td>\n",
       "      <td>0.068982</td>\n",
       "      <td>0.825614</td>\n",
       "      <td>0.35864</td>\n",
       "      <td>0.337315</td>\n",
       "      <td>0.677264</td>\n",
       "      <td>...</td>\n",
       "      <td>0.87972</td>\n",
       "      <td>3.850623</td>\n",
       "      <td>2.342566</td>\n",
       "      <td>2.357670</td>\n",
       "      <td>4.025986</td>\n",
       "      <td>2.719162</td>\n",
       "      <td>2.118112</td>\n",
       "      <td>0.886499</td>\n",
       "      <td>0.534583</td>\n",
       "      <td>0.212454</td>\n",
       "    </tr>\n",
       "    <tr>\n",
       "      <th>std</th>\n",
       "      <td>7709.791156</td>\n",
       "      <td>0.910311</td>\n",
       "      <td>0.618149</td>\n",
       "      <td>0.215545</td>\n",
       "      <td>0.446214</td>\n",
       "      <td>0.253429</td>\n",
       "      <td>0.379448</td>\n",
       "      <td>0.47961</td>\n",
       "      <td>0.472802</td>\n",
       "      <td>0.467531</td>\n",
       "      <td>...</td>\n",
       "      <td>0.32530</td>\n",
       "      <td>1.007436</td>\n",
       "      <td>1.285539</td>\n",
       "      <td>1.362766</td>\n",
       "      <td>1.086565</td>\n",
       "      <td>1.385055</td>\n",
       "      <td>1.332950</td>\n",
       "      <td>0.753422</td>\n",
       "      <td>0.928173</td>\n",
       "      <td>0.409052</td>\n",
       "    </tr>\n",
       "    <tr>\n",
       "      <th>min</th>\n",
       "      <td>0.000000</td>\n",
       "      <td>0.000000</td>\n",
       "      <td>0.000000</td>\n",
       "      <td>0.000000</td>\n",
       "      <td>0.000000</td>\n",
       "      <td>0.000000</td>\n",
       "      <td>0.000000</td>\n",
       "      <td>0.00000</td>\n",
       "      <td>0.000000</td>\n",
       "      <td>0.000000</td>\n",
       "      <td>...</td>\n",
       "      <td>0.00000</td>\n",
       "      <td>1.000000</td>\n",
       "      <td>1.000000</td>\n",
       "      <td>1.000000</td>\n",
       "      <td>1.000000</td>\n",
       "      <td>1.000000</td>\n",
       "      <td>1.000000</td>\n",
       "      <td>0.000000</td>\n",
       "      <td>0.000000</td>\n",
       "      <td>0.000000</td>\n",
       "    </tr>\n",
       "    <tr>\n",
       "      <th>25%</th>\n",
       "      <td>6676.500000</td>\n",
       "      <td>1.000000</td>\n",
       "      <td>1.000000</td>\n",
       "      <td>0.000000</td>\n",
       "      <td>0.000000</td>\n",
       "      <td>0.000000</td>\n",
       "      <td>1.000000</td>\n",
       "      <td>0.00000</td>\n",
       "      <td>0.000000</td>\n",
       "      <td>0.000000</td>\n",
       "      <td>...</td>\n",
       "      <td>1.00000</td>\n",
       "      <td>3.000000</td>\n",
       "      <td>1.000000</td>\n",
       "      <td>1.000000</td>\n",
       "      <td>4.000000</td>\n",
       "      <td>2.000000</td>\n",
       "      <td>1.000000</td>\n",
       "      <td>0.000000</td>\n",
       "      <td>0.000000</td>\n",
       "      <td>0.000000</td>\n",
       "    </tr>\n",
       "    <tr>\n",
       "      <th>50%</th>\n",
       "      <td>13353.000000</td>\n",
       "      <td>2.000000</td>\n",
       "      <td>1.000000</td>\n",
       "      <td>0.000000</td>\n",
       "      <td>1.000000</td>\n",
       "      <td>0.000000</td>\n",
       "      <td>1.000000</td>\n",
       "      <td>0.00000</td>\n",
       "      <td>0.000000</td>\n",
       "      <td>1.000000</td>\n",
       "      <td>...</td>\n",
       "      <td>1.00000</td>\n",
       "      <td>4.000000</td>\n",
       "      <td>2.000000</td>\n",
       "      <td>2.000000</td>\n",
       "      <td>4.000000</td>\n",
       "      <td>2.000000</td>\n",
       "      <td>2.000000</td>\n",
       "      <td>1.000000</td>\n",
       "      <td>0.000000</td>\n",
       "      <td>0.000000</td>\n",
       "    </tr>\n",
       "    <tr>\n",
       "      <th>75%</th>\n",
       "      <td>20029.500000</td>\n",
       "      <td>2.000000</td>\n",
       "      <td>2.000000</td>\n",
       "      <td>0.000000</td>\n",
       "      <td>1.000000</td>\n",
       "      <td>0.000000</td>\n",
       "      <td>1.000000</td>\n",
       "      <td>1.00000</td>\n",
       "      <td>1.000000</td>\n",
       "      <td>1.000000</td>\n",
       "      <td>...</td>\n",
       "      <td>1.00000</td>\n",
       "      <td>5.000000</td>\n",
       "      <td>4.000000</td>\n",
       "      <td>4.000000</td>\n",
       "      <td>5.000000</td>\n",
       "      <td>4.000000</td>\n",
       "      <td>4.000000</td>\n",
       "      <td>1.000000</td>\n",
       "      <td>1.000000</td>\n",
       "      <td>0.000000</td>\n",
       "    </tr>\n",
       "    <tr>\n",
       "      <th>max</th>\n",
       "      <td>26706.000000</td>\n",
       "      <td>3.000000</td>\n",
       "      <td>2.000000</td>\n",
       "      <td>1.000000</td>\n",
       "      <td>1.000000</td>\n",
       "      <td>1.000000</td>\n",
       "      <td>1.000000</td>\n",
       "      <td>1.00000</td>\n",
       "      <td>1.000000</td>\n",
       "      <td>1.000000</td>\n",
       "      <td>...</td>\n",
       "      <td>1.00000</td>\n",
       "      <td>5.000000</td>\n",
       "      <td>5.000000</td>\n",
       "      <td>5.000000</td>\n",
       "      <td>5.000000</td>\n",
       "      <td>5.000000</td>\n",
       "      <td>5.000000</td>\n",
       "      <td>3.000000</td>\n",
       "      <td>3.000000</td>\n",
       "      <td>1.000000</td>\n",
       "    </tr>\n",
       "  </tbody>\n",
       "</table>\n",
       "<p>8 rows × 25 columns</p>\n",
       "</div>"
      ],
      "text/plain": [
       "          unique_id    h1n1_worry  h1n1_awareness  antiviral_medication  \\\n",
       "count  26707.000000  26615.000000    26591.000000          26636.000000   \n",
       "mean   13353.000000      1.618486        1.262532              0.048844   \n",
       "std     7709.791156      0.910311        0.618149              0.215545   \n",
       "min        0.000000      0.000000        0.000000              0.000000   \n",
       "25%     6676.500000      1.000000        1.000000              0.000000   \n",
       "50%    13353.000000      2.000000        1.000000              0.000000   \n",
       "75%    20029.500000      2.000000        2.000000              0.000000   \n",
       "max    26706.000000      3.000000        2.000000              1.000000   \n",
       "\n",
       "       contact_avoidance  bought_face_mask  wash_hands_frequently  \\\n",
       "count       26499.000000      26688.000000           26665.000000   \n",
       "mean            0.725612          0.068982               0.825614   \n",
       "std             0.446214          0.253429               0.379448   \n",
       "min             0.000000          0.000000               0.000000   \n",
       "25%             0.000000          0.000000               1.000000   \n",
       "50%             1.000000          0.000000               1.000000   \n",
       "75%             1.000000          0.000000               1.000000   \n",
       "max             1.000000          1.000000               1.000000   \n",
       "\n",
       "       avoid_large_gatherings  reduced_outside_home_cont  avoid_touch_face  \\\n",
       "count             26620.00000               26625.000000      26579.000000   \n",
       "mean                  0.35864                   0.337315          0.677264   \n",
       "std                   0.47961                   0.472802          0.467531   \n",
       "min                   0.00000                   0.000000          0.000000   \n",
       "25%                   0.00000                   0.000000          0.000000   \n",
       "50%                   0.00000                   0.000000          1.000000   \n",
       "75%                   1.00000                   1.000000          1.000000   \n",
       "max                   1.00000                   1.000000          1.000000   \n",
       "\n",
       "       ...  has_health_insur  is_h1n1_vacc_effective  is_h1n1_risky  \\\n",
       "count  ...       14433.00000            26316.000000   26319.000000   \n",
       "mean   ...           0.87972                3.850623       2.342566   \n",
       "std    ...           0.32530                1.007436       1.285539   \n",
       "min    ...           0.00000                1.000000       1.000000   \n",
       "25%    ...           1.00000                3.000000       1.000000   \n",
       "50%    ...           1.00000                4.000000       2.000000   \n",
       "75%    ...           1.00000                5.000000       4.000000   \n",
       "max    ...           1.00000                5.000000       5.000000   \n",
       "\n",
       "       sick_from_h1n1_vacc  is_seas_vacc_effective  is_seas_risky  \\\n",
       "count         26312.000000            26245.000000   26193.000000   \n",
       "mean              2.357670                4.025986       2.719162   \n",
       "std               1.362766                1.086565       1.385055   \n",
       "min               1.000000                1.000000       1.000000   \n",
       "25%               1.000000                4.000000       2.000000   \n",
       "50%               2.000000                4.000000       2.000000   \n",
       "75%               4.000000                5.000000       4.000000   \n",
       "max               5.000000                5.000000       5.000000   \n",
       "\n",
       "       sick_from_seas_vacc  no_of_adults  no_of_children  h1n1_vaccine  \n",
       "count         26170.000000  26458.000000    26458.000000  26707.000000  \n",
       "mean              2.118112      0.886499        0.534583      0.212454  \n",
       "std               1.332950      0.753422        0.928173      0.409052  \n",
       "min               1.000000      0.000000        0.000000      0.000000  \n",
       "25%               1.000000      0.000000        0.000000      0.000000  \n",
       "50%               2.000000      1.000000        0.000000      0.000000  \n",
       "75%               4.000000      1.000000        1.000000      0.000000  \n",
       "max               5.000000      3.000000        3.000000      1.000000  \n",
       "\n",
       "[8 rows x 25 columns]"
      ]
     },
     "execution_count": 195,
     "metadata": {},
     "output_type": "execute_result"
    }
   ],
   "source": [
    "data.describe()"
   ]
  },
  {
   "cell_type": "code",
   "execution_count": 196,
   "id": "d27cba34",
   "metadata": {},
   "outputs": [
    {
     "data": {
      "text/plain": [
       "0"
      ]
     },
     "execution_count": 196,
     "metadata": {},
     "output_type": "execute_result"
    }
   ],
   "source": [
    "data.duplicated().sum()"
   ]
  },
  {
   "cell_type": "code",
   "execution_count": 197,
   "id": "974842f1",
   "metadata": {},
   "outputs": [
    {
     "data": {
      "text/plain": [
       "<Axes: xlabel='qualification', ylabel='count'>"
      ]
     },
     "execution_count": 197,
     "metadata": {},
     "output_type": "execute_result"
    },
    {
     "data": {
      "image/png": "[encoded data removed]",
      "text/plain": [
       "<Figure size 640x480 with 1 Axes>"
      ]
     },
     "metadata": {},
     "output_type": "display_data"
    }
   ],
   "source": [
    "sns.countplot(x=\"qualification\",data=data)"
   ]
  },
  {
   "cell_type": "code",
   "execution_count": 198,
   "id": "d62c98ec",
   "metadata": {},
   "outputs": [
    {
     "data": {
      "text/plain": [
       "unique_id                        0\n",
       "h1n1_worry                      92\n",
       "h1n1_awareness                 116\n",
       "antiviral_medication            71\n",
       "contact_avoidance              208\n",
       "bought_face_mask                19\n",
       "wash_hands_frequently           42\n",
       "avoid_large_gatherings          87\n",
       "reduced_outside_home_cont       82\n",
       "avoid_touch_face               128\n",
       "dr_recc_h1n1_vacc             2160\n",
       "dr_recc_seasonal_vacc         2160\n",
       "chronic_medic_condition        971\n",
       "cont_child_undr_6_mnths        820\n",
       "is_health_worker               804\n",
       "has_health_insur             12274\n",
       "is_h1n1_vacc_effective         391\n",
       "is_h1n1_risky                  388\n",
       "sick_from_h1n1_vacc            395\n",
       "is_seas_vacc_effective         462\n",
       "is_seas_risky                  514\n",
       "sick_from_seas_vacc            537\n",
       "age_bracket                      0\n",
       "qualification                 1407\n",
       "race                             0\n",
       "sex                              0\n",
       "income_level                  4423\n",
       "marital_status                1408\n",
       "housing_status                2042\n",
       "employment                    1463\n",
       "census_msa                       0\n",
       "no_of_adults                   249\n",
       "no_of_children                 249\n",
       "h1n1_vaccine                     0\n",
       "dtype: int64"
      ]
     },
     "execution_count": 198,
     "metadata": {},
     "output_type": "execute_result"
    }
   ],
   "source": [
    "data.isnull().sum()"
   ]
  },
  {
   "cell_type": "code",
   "execution_count": 199,
   "id": "d1ce2132",
   "metadata": {},
   "outputs": [
    {
     "data": {
      "text/plain": [
       "<Axes: xlabel='unique_id'>"
      ]
     },
     "execution_count": 199,
     "metadata": {},
     "output_type": "execute_result"
    },
    {
     "data": {
      "image/png": "[encoded data removed]",
      "text/plain": [
       "<Figure size 640x480 with 1 Axes>"
      ]
     },
     "metadata": {},
     "output_type": "display_data"
    }
   ],
   "source": [
    "sns.boxplot(x=\"unique_id\",data=data)"
   ]
  },
  {
   "cell_type": "code",
   "execution_count": 200,
   "id": "3ceace0f",
   "metadata": {},
   "outputs": [
    {
     "data": {
      "text/plain": [
       "unique_id                      int64\n",
       "h1n1_worry                   float64\n",
       "h1n1_awareness               float64\n",
       "antiviral_medication         float64\n",
       "contact_avoidance            float64\n",
       "bought_face_mask             float64\n",
       "wash_hands_frequently        float64\n",
       "avoid_large_gatherings       float64\n",
       "reduced_outside_home_cont    float64\n",
       "avoid_touch_face             float64\n",
       "dr_recc_h1n1_vacc            float64\n",
       "dr_recc_seasonal_vacc        float64\n",
       "chronic_medic_condition      float64\n",
       "cont_child_undr_6_mnths      float64\n",
       "is_health_worker             float64\n",
       "has_health_insur             float64\n",
       "is_h1n1_vacc_effective       float64\n",
       "is_h1n1_risky                float64\n",
       "sick_from_h1n1_vacc          float64\n",
       "is_seas_vacc_effective       float64\n",
       "is_seas_risky                float64\n",
       "sick_from_seas_vacc          float64\n",
       "age_bracket                   object\n",
       "qualification                 object\n",
       "race                          object\n",
       "sex                           object\n",
       "income_level                  object\n",
       "marital_status                object\n",
       "housing_status                object\n",
       "employment                    object\n",
       "census_msa                    object\n",
       "no_of_adults                 float64\n",
       "no_of_children               float64\n",
       "h1n1_vaccine                   int64\n",
       "dtype: object"
      ]
     },
     "execution_count": 200,
     "metadata": {},
     "output_type": "execute_result"
    }
   ],
   "source": [
    "data.dtypes"
   ]
  },
  {
   "cell_type": "code",
   "execution_count": 201,
   "id": "4cec49fe",
   "metadata": {},
   "outputs": [
    {
     "data": {
      "text/plain": [
       "<Axes: xlabel='age_bracket', ylabel='count'>"
      ]
     },
     "execution_count": 201,
     "metadata": {},
     "output_type": "execute_result"
    },
    {
     "data": {
      "image/png": "[encoded data removed]",
      "text/plain": [
       "<Figure size 640x480 with 1 Axes>"
      ]
     },
     "metadata": {},
     "output_type": "display_data"
    }
   ],
   "source": [
    "sns.countplot(x=\"age_bracket\",data=data)"
   ]
  },
  {
   "cell_type": "code",
   "execution_count": 202,
   "id": "47aa7b4a",
   "metadata": {},
   "outputs": [
    {
     "data": {
      "text/plain": [
       "<Axes: >"
      ]
     },
     "execution_count": 202,
     "metadata": {},
     "output_type": "execute_result"
    },
    {
     "data": {
      "image/png": "[encoded data removed]",
      "text/plain": [
       "<Figure size 640x480 with 2 Axes>"
      ]
     },
     "metadata": {},
     "output_type": "display_data"
    }
   ],
   "source": [
    "sns.heatmap(data.isnull(),yticklabels=False,cmap=\"viridis\")"
   ]
  },
  {
   "cell_type": "code",
   "execution_count": 203,
   "id": "72e0bb20",
   "metadata": {},
   "outputs": [
    {
     "data": {
      "text/html": [
       "<div>\n",
       "<style scoped>\n",
       "    .dataframe tbody tr th:only-of-type {\n",
       "        vertical-align: middle;\n",
       "    }\n",
       "\n",
       "    .dataframe tbody tr th {\n",
       "        vertical-align: top;\n",
       "    }\n",
       "\n",
       "    .dataframe thead th {\n",
       "        text-align: right;\n",
       "    }\n",
       "</style>\n",
       "<table border=\"1\" class=\"dataframe\">\n",
       "  <thead>\n",
       "    <tr style=\"text-align: right;\">\n",
       "      <th></th>\n",
       "      <th>h1n1_worry</th>\n",
       "      <th>h1n1_awareness</th>\n",
       "      <th>antiviral_medication</th>\n",
       "      <th>contact_avoidance</th>\n",
       "      <th>bought_face_mask</th>\n",
       "      <th>wash_hands_frequently</th>\n",
       "      <th>avoid_large_gatherings</th>\n",
       "      <th>reduced_outside_home_cont</th>\n",
       "      <th>avoid_touch_face</th>\n",
       "      <th>dr_recc_h1n1_vacc</th>\n",
       "      <th>...</th>\n",
       "      <th>race</th>\n",
       "      <th>sex</th>\n",
       "      <th>income_level</th>\n",
       "      <th>marital_status</th>\n",
       "      <th>housing_status</th>\n",
       "      <th>employment</th>\n",
       "      <th>census_msa</th>\n",
       "      <th>no_of_adults</th>\n",
       "      <th>no_of_children</th>\n",
       "      <th>h1n1_vaccine</th>\n",
       "    </tr>\n",
       "  </thead>\n",
       "  <tbody>\n",
       "    <tr>\n",
       "      <th>0</th>\n",
       "      <td>1.0</td>\n",
       "      <td>0.0</td>\n",
       "      <td>0.0</td>\n",
       "      <td>0.0</td>\n",
       "      <td>0.0</td>\n",
       "      <td>0.0</td>\n",
       "      <td>0.0</td>\n",
       "      <td>1.0</td>\n",
       "      <td>1.0</td>\n",
       "      <td>0.0</td>\n",
       "      <td>...</td>\n",
       "      <td>White</td>\n",
       "      <td>Female</td>\n",
       "      <td>Below Poverty</td>\n",
       "      <td>Not Married</td>\n",
       "      <td>Own</td>\n",
       "      <td>Not in Labor Force</td>\n",
       "      <td>Non-MSA</td>\n",
       "      <td>0.0</td>\n",
       "      <td>0.0</td>\n",
       "      <td>0</td>\n",
       "    </tr>\n",
       "    <tr>\n",
       "      <th>1</th>\n",
       "      <td>3.0</td>\n",
       "      <td>2.0</td>\n",
       "      <td>0.0</td>\n",
       "      <td>1.0</td>\n",
       "      <td>0.0</td>\n",
       "      <td>1.0</td>\n",
       "      <td>0.0</td>\n",
       "      <td>1.0</td>\n",
       "      <td>1.0</td>\n",
       "      <td>0.0</td>\n",
       "      <td>...</td>\n",
       "      <td>White</td>\n",
       "      <td>Male</td>\n",
       "      <td>Below Poverty</td>\n",
       "      <td>Not Married</td>\n",
       "      <td>Rent</td>\n",
       "      <td>Employed</td>\n",
       "      <td>MSA, Not Principle  City</td>\n",
       "      <td>0.0</td>\n",
       "      <td>0.0</td>\n",
       "      <td>0</td>\n",
       "    </tr>\n",
       "    <tr>\n",
       "      <th>2</th>\n",
       "      <td>1.0</td>\n",
       "      <td>1.0</td>\n",
       "      <td>0.0</td>\n",
       "      <td>1.0</td>\n",
       "      <td>0.0</td>\n",
       "      <td>0.0</td>\n",
       "      <td>0.0</td>\n",
       "      <td>0.0</td>\n",
       "      <td>0.0</td>\n",
       "      <td>NaN</td>\n",
       "      <td>...</td>\n",
       "      <td>White</td>\n",
       "      <td>Male</td>\n",
       "      <td>&lt;= $75,000, Above Poverty</td>\n",
       "      <td>Not Married</td>\n",
       "      <td>Own</td>\n",
       "      <td>Employed</td>\n",
       "      <td>MSA, Not Principle  City</td>\n",
       "      <td>2.0</td>\n",
       "      <td>0.0</td>\n",
       "      <td>0</td>\n",
       "    </tr>\n",
       "    <tr>\n",
       "      <th>3</th>\n",
       "      <td>1.0</td>\n",
       "      <td>1.0</td>\n",
       "      <td>0.0</td>\n",
       "      <td>1.0</td>\n",
       "      <td>0.0</td>\n",
       "      <td>1.0</td>\n",
       "      <td>1.0</td>\n",
       "      <td>0.0</td>\n",
       "      <td>0.0</td>\n",
       "      <td>0.0</td>\n",
       "      <td>...</td>\n",
       "      <td>White</td>\n",
       "      <td>Female</td>\n",
       "      <td>Below Poverty</td>\n",
       "      <td>Not Married</td>\n",
       "      <td>Rent</td>\n",
       "      <td>Not in Labor Force</td>\n",
       "      <td>MSA, Principle City</td>\n",
       "      <td>0.0</td>\n",
       "      <td>0.0</td>\n",
       "      <td>0</td>\n",
       "    </tr>\n",
       "    <tr>\n",
       "      <th>4</th>\n",
       "      <td>2.0</td>\n",
       "      <td>1.0</td>\n",
       "      <td>0.0</td>\n",
       "      <td>1.0</td>\n",
       "      <td>0.0</td>\n",
       "      <td>1.0</td>\n",
       "      <td>1.0</td>\n",
       "      <td>0.0</td>\n",
       "      <td>1.0</td>\n",
       "      <td>0.0</td>\n",
       "      <td>...</td>\n",
       "      <td>White</td>\n",
       "      <td>Female</td>\n",
       "      <td>&lt;= $75,000, Above Poverty</td>\n",
       "      <td>Married</td>\n",
       "      <td>Own</td>\n",
       "      <td>Employed</td>\n",
       "      <td>MSA, Not Principle  City</td>\n",
       "      <td>1.0</td>\n",
       "      <td>0.0</td>\n",
       "      <td>0</td>\n",
       "    </tr>\n",
       "  </tbody>\n",
       "</table>\n",
       "<p>5 rows × 33 columns</p>\n",
       "</div>"
      ],
      "text/plain": [
       "   h1n1_worry  h1n1_awareness  antiviral_medication  contact_avoidance  \\\n",
       "0         1.0             0.0                   0.0                0.0   \n",
       "1         3.0             2.0                   0.0                1.0   \n",
       "2         1.0             1.0                   0.0                1.0   \n",
       "3         1.0             1.0                   0.0                1.0   \n",
       "4         2.0             1.0                   0.0                1.0   \n",
       "\n",
       "   bought_face_mask  wash_hands_frequently  avoid_large_gatherings  \\\n",
       "0               0.0                    0.0                     0.0   \n",
       "1               0.0                    1.0                     0.0   \n",
       "2               0.0                    0.0                     0.0   \n",
       "3               0.0                    1.0                     1.0   \n",
       "4               0.0                    1.0                     1.0   \n",
       "\n",
       "   reduced_outside_home_cont  avoid_touch_face  dr_recc_h1n1_vacc  ...   race  \\\n",
       "0                        1.0               1.0                0.0  ...  White   \n",
       "1                        1.0               1.0                0.0  ...  White   \n",
       "2                        0.0               0.0                NaN  ...  White   \n",
       "3                        0.0               0.0                0.0  ...  White   \n",
       "4                        0.0               1.0                0.0  ...  White   \n",
       "\n",
       "      sex               income_level  marital_status  housing_status  \\\n",
       "0  Female              Below Poverty     Not Married             Own   \n",
       "1    Male              Below Poverty     Not Married            Rent   \n",
       "2    Male  <= $75,000, Above Poverty     Not Married             Own   \n",
       "3  Female              Below Poverty     Not Married            Rent   \n",
       "4  Female  <= $75,000, Above Poverty         Married             Own   \n",
       "\n",
       "           employment                census_msa  no_of_adults  no_of_children  \\\n",
       "0  Not in Labor Force                   Non-MSA           0.0             0.0   \n",
       "1            Employed  MSA, Not Principle  City           0.0             0.0   \n",
       "2            Employed  MSA, Not Principle  City           2.0             0.0   \n",
       "3  Not in Labor Force       MSA, Principle City           0.0             0.0   \n",
       "4            Employed  MSA, Not Principle  City           1.0             0.0   \n",
       "\n",
       "   h1n1_vaccine  \n",
       "0             0  \n",
       "1             0  \n",
       "2             0  \n",
       "3             0  \n",
       "4             0  \n",
       "\n",
       "[5 rows x 33 columns]"
      ]
     },
     "execution_count": 203,
     "metadata": {},
     "output_type": "execute_result"
    }
   ],
   "source": [
    "data.drop(['unique_id'],axis=1,inplace=True)\n",
    "data.head()"
   ]
  },
  {
   "cell_type": "code",
   "execution_count": 204,
   "id": "9db6264d",
   "metadata": {},
   "outputs": [
    {
     "data": {
      "text/plain": [
       "2.0"
      ]
     },
     "execution_count": 204,
     "metadata": {},
     "output_type": "execute_result"
    }
   ],
   "source": [
    "median1=data[\"h1n1_worry\"].median()\n",
    "median1"
   ]
  },
  {
   "cell_type": "code",
   "execution_count": 205,
   "id": "de2a4415",
   "metadata": {},
   "outputs": [],
   "source": [
    "data[\"h1n1_worry\"]=data[\"h1n1_worry\"].replace(np.nan,median1)"
   ]
  },
  {
   "cell_type": "code",
   "execution_count": 206,
   "id": "af4c578e",
   "metadata": {},
   "outputs": [
    {
     "data": {
      "text/plain": [
       "1.2625324357865444"
      ]
     },
     "execution_count": 206,
     "metadata": {},
     "output_type": "execute_result"
    }
   ],
   "source": [
    "median2=data[\"h1n1_awareness\"].mean()\n",
    "median2"
   ]
  },
  {
   "cell_type": "code",
   "execution_count": 207,
   "id": "f4e605ef",
   "metadata": {},
   "outputs": [],
   "source": [
    "data[\"h1n1_awareness\"]=data[\"h1n1_awareness\"].replace(np.nan,median2)"
   ]
  },
  {
   "cell_type": "code",
   "execution_count": 208,
   "id": "cd7251cb",
   "metadata": {},
   "outputs": [
    {
     "data": {
      "text/plain": [
       "0.048843670220753865"
      ]
     },
     "execution_count": 208,
     "metadata": {},
     "output_type": "execute_result"
    }
   ],
   "source": [
    "median3=data[\"antiviral_medication\"].mean()\n",
    "median3"
   ]
  },
  {
   "cell_type": "code",
   "execution_count": 209,
   "id": "b1b33cb1",
   "metadata": {},
   "outputs": [],
   "source": [
    "data[\"antiviral_medication\"]=data[\"antiviral_medication\"].replace(np.nan,median3)"
   ]
  },
  {
   "cell_type": "code",
   "execution_count": 210,
   "id": "39a69500",
   "metadata": {},
   "outputs": [
    {
     "data": {
      "text/plain": [
       "0.7256122872561229"
      ]
     },
     "execution_count": 210,
     "metadata": {},
     "output_type": "execute_result"
    }
   ],
   "source": [
    "median4=data[\"contact_avoidance\"].mean()\n",
    "median4"
   ]
  },
  {
   "cell_type": "code",
   "execution_count": 211,
   "id": "bcad9fd1",
   "metadata": {},
   "outputs": [],
   "source": [
    "data[\"contact_avoidance\"]=data[\"contact_avoidance\"].replace(np.nan,median4)"
   ]
  },
  {
   "cell_type": "code",
   "execution_count": 212,
   "id": "3a44b9f5",
   "metadata": {},
   "outputs": [
    {
     "data": {
      "text/plain": [
       "0.06898231414868106"
      ]
     },
     "execution_count": 212,
     "metadata": {},
     "output_type": "execute_result"
    }
   ],
   "source": [
    "median5=data[\"bought_face_mask\"].mean()\n",
    "median5"
   ]
  },
  {
   "cell_type": "code",
   "execution_count": 213,
   "id": "d1d930d8",
   "metadata": {},
   "outputs": [],
   "source": [
    "data[\"bought_face_mask\"]=data[\"bought_face_mask\"].replace(np.nan,median5)"
   ]
  },
  {
   "cell_type": "code",
   "execution_count": 214,
   "id": "b6a26a2c",
   "metadata": {},
   "outputs": [
    {
     "data": {
      "text/plain": [
       "1.0"
      ]
     },
     "execution_count": 214,
     "metadata": {},
     "output_type": "execute_result"
    }
   ],
   "source": [
    "median6=data[\"wash_hands_frequently\"].median()\n",
    "median6"
   ]
  },
  {
   "cell_type": "code",
   "execution_count": 215,
   "id": "bd1fe949",
   "metadata": {},
   "outputs": [],
   "source": [
    "data[\"wash_hands_frequently\"]=data[\"wash_hands_frequently\"].replace(np.nan,median6)"
   ]
  },
  {
   "cell_type": "code",
   "execution_count": 216,
   "id": "434f95b0",
   "metadata": {},
   "outputs": [
    {
     "data": {
      "text/plain": [
       "0.3586401202103681"
      ]
     },
     "execution_count": 216,
     "metadata": {},
     "output_type": "execute_result"
    }
   ],
   "source": [
    "median7=data[\"avoid_large_gatherings\"].mean()\n",
    "median7"
   ]
  },
  {
   "cell_type": "code",
   "execution_count": 217,
   "id": "ce21e1ae",
   "metadata": {},
   "outputs": [],
   "source": [
    "data[\"avoid_large_gatherings\"]=data[\"avoid_large_gatherings\"].replace(np.nan,median7)"
   ]
  },
  {
   "cell_type": "code",
   "execution_count": 218,
   "id": "8c05fbda",
   "metadata": {},
   "outputs": [
    {
     "data": {
      "text/plain": [
       "0.33731455399061033"
      ]
     },
     "execution_count": 218,
     "metadata": {},
     "output_type": "execute_result"
    }
   ],
   "source": [
    "median8=data[\"reduced_outside_home_cont\"].mean()\n",
    "median8"
   ]
  },
  {
   "cell_type": "code",
   "execution_count": 219,
   "id": "04828855",
   "metadata": {},
   "outputs": [],
   "source": [
    "data[\"reduced_outside_home_cont\"]=data[\"reduced_outside_home_cont\"].replace(np.nan,median8)"
   ]
  },
  {
   "cell_type": "code",
   "execution_count": 220,
   "id": "747611ca",
   "metadata": {},
   "outputs": [
    {
     "data": {
      "text/plain": [
       "1.0"
      ]
     },
     "execution_count": 220,
     "metadata": {},
     "output_type": "execute_result"
    }
   ],
   "source": [
    "median9=data[\"avoid_touch_face\"].median()\n",
    "median9"
   ]
  },
  {
   "cell_type": "code",
   "execution_count": 221,
   "id": "145a3bd5",
   "metadata": {},
   "outputs": [],
   "source": [
    "data[\"avoid_touch_face\"]=data[\"avoid_touch_face\"].replace(np.nan,median9)"
   ]
  },
  {
   "cell_type": "code",
   "execution_count": 222,
   "id": "6a57d57c",
   "metadata": {},
   "outputs": [
    {
     "data": {
      "text/plain": [
       "0.2203120544262028"
      ]
     },
     "execution_count": 222,
     "metadata": {},
     "output_type": "execute_result"
    }
   ],
   "source": [
    "median10=data[\"dr_recc_h1n1_vacc\"].mean()\n",
    "median10"
   ]
  },
  {
   "cell_type": "code",
   "execution_count": 223,
   "id": "90926be7",
   "metadata": {},
   "outputs": [],
   "source": [
    "data[\"dr_recc_h1n1_vacc\"]=data[\"dr_recc_h1n1_vacc\"].replace(np.nan,median10)"
   ]
  },
  {
   "cell_type": "code",
   "execution_count": 224,
   "id": "2bc1121e",
   "metadata": {},
   "outputs": [
    {
     "data": {
      "text/plain": [
       "0.32973479447590337"
      ]
     },
     "execution_count": 224,
     "metadata": {},
     "output_type": "execute_result"
    }
   ],
   "source": [
    "median11=data[\"dr_recc_seasonal_vacc\"].mean()\n",
    "median11"
   ]
  },
  {
   "cell_type": "code",
   "execution_count": 225,
   "id": "b09bbe51",
   "metadata": {},
   "outputs": [],
   "source": [
    "data[\"dr_recc_seasonal_vacc\"]=data[\"dr_recc_seasonal_vacc\"].replace(np.nan,median11)"
   ]
  },
  {
   "cell_type": "code",
   "execution_count": 226,
   "id": "beb791bf",
   "metadata": {},
   "outputs": [
    {
     "data": {
      "text/plain": [
       "0.28326080198943115"
      ]
     },
     "execution_count": 226,
     "metadata": {},
     "output_type": "execute_result"
    }
   ],
   "source": [
    "median12=data[\"chronic_medic_condition\"].mean()\n",
    "median12"
   ]
  },
  {
   "cell_type": "code",
   "execution_count": 227,
   "id": "0f1a3cef",
   "metadata": {},
   "outputs": [],
   "source": [
    "data[\"chronic_medic_condition\"]=data[\"chronic_medic_condition\"].replace(np.nan,median12)"
   ]
  },
  {
   "cell_type": "code",
   "execution_count": 228,
   "id": "acabc653",
   "metadata": {},
   "outputs": [
    {
     "data": {
      "text/plain": [
       "0.0825897168462935"
      ]
     },
     "execution_count": 228,
     "metadata": {},
     "output_type": "execute_result"
    }
   ],
   "source": [
    "median13=data[\"cont_child_undr_6_mnths\"].mean()\n",
    "median13"
   ]
  },
  {
   "cell_type": "code",
   "execution_count": 229,
   "id": "27117722",
   "metadata": {},
   "outputs": [],
   "source": [
    "data[\"cont_child_undr_6_mnths\"]=data[\"cont_child_undr_6_mnths\"].replace(np.nan,median13)"
   ]
  },
  {
   "cell_type": "code",
   "execution_count": 230,
   "id": "822be8d0",
   "metadata": {},
   "outputs": [
    {
     "data": {
      "text/plain": [
       "0.111917538509053"
      ]
     },
     "execution_count": 230,
     "metadata": {},
     "output_type": "execute_result"
    }
   ],
   "source": [
    "median14=data[\"is_health_worker\"].mean()\n",
    "median14"
   ]
  },
  {
   "cell_type": "code",
   "execution_count": 231,
   "id": "198e3a47",
   "metadata": {},
   "outputs": [],
   "source": [
    "data[\"is_health_worker\"]=data[\"is_health_worker\"].replace(np.nan,median14)"
   ]
  },
  {
   "cell_type": "code",
   "execution_count": 232,
   "id": "1ea40a71",
   "metadata": {},
   "outputs": [
    {
     "data": {
      "text/plain": [
       "3.85062319501444"
      ]
     },
     "execution_count": 232,
     "metadata": {},
     "output_type": "execute_result"
    }
   ],
   "source": [
    "median15=data[\"is_h1n1_vacc_effective\"].mean()\n",
    "median15"
   ]
  },
  {
   "cell_type": "code",
   "execution_count": 233,
   "id": "9ddc3f47",
   "metadata": {},
   "outputs": [],
   "source": [
    "data[\"is_h1n1_vacc_effective\"]=data[\"is_h1n1_vacc_effective\"].replace(np.nan,median15)"
   ]
  },
  {
   "cell_type": "code",
   "execution_count": 234,
   "id": "bd187522",
   "metadata": {},
   "outputs": [
    {
     "data": {
      "text/plain": [
       "2.3425662069227555"
      ]
     },
     "execution_count": 234,
     "metadata": {},
     "output_type": "execute_result"
    }
   ],
   "source": [
    "median16=data[\"is_h1n1_risky\"].mean()\n",
    "median16"
   ]
  },
  {
   "cell_type": "code",
   "execution_count": 235,
   "id": "916526c8",
   "metadata": {},
   "outputs": [],
   "source": [
    "data[\"is_h1n1_risky\"]=data[\"is_h1n1_risky\"].replace(np.nan,median16)"
   ]
  },
  {
   "cell_type": "code",
   "execution_count": 236,
   "id": "d4ee8aa5",
   "metadata": {},
   "outputs": [
    {
     "data": {
      "text/plain": [
       "2.0"
      ]
     },
     "execution_count": 236,
     "metadata": {},
     "output_type": "execute_result"
    }
   ],
   "source": [
    "median17=data[\"sick_from_h1n1_vacc\"].median()\n",
    "median17"
   ]
  },
  {
   "cell_type": "code",
   "execution_count": 237,
   "id": "364144c6",
   "metadata": {},
   "outputs": [],
   "source": [
    "data[\"sick_from_h1n1_vacc\"]=data[\"sick_from_h1n1_vacc\"].replace(np.nan,median17)"
   ]
  },
  {
   "cell_type": "code",
   "execution_count": 238,
   "id": "d8a26699",
   "metadata": {},
   "outputs": [],
   "source": [
    "mode1=data[\"qualification\"].mode()[0]"
   ]
  },
  {
   "cell_type": "code",
   "execution_count": 239,
   "id": "312589e8",
   "metadata": {},
   "outputs": [],
   "source": [
    "data[\"qualification\"]=data[\"qualification\"].replace(np.nan,mode1)"
   ]
  },
  {
   "cell_type": "code",
   "execution_count": 240,
   "id": "759dd113",
   "metadata": {},
   "outputs": [],
   "source": [
    "mode2=data[\"income_level\"].mode()[0]"
   ]
  },
  {
   "cell_type": "code",
   "execution_count": 241,
   "id": "b10bb7a3",
   "metadata": {},
   "outputs": [],
   "source": [
    "data[\"income_level\"]=data[\"income_level\"].replace(np.nan,mode2)"
   ]
  },
  {
   "cell_type": "code",
   "execution_count": 242,
   "id": "5ef961fd",
   "metadata": {},
   "outputs": [],
   "source": [
    "mode3=data[\"marital_status\"].mode()[0]"
   ]
  },
  {
   "cell_type": "code",
   "execution_count": 243,
   "id": "aeaf5c5b",
   "metadata": {},
   "outputs": [],
   "source": [
    "data[\"marital_status\"]=data[\"marital_status\"].replace(np.nan,mode3)"
   ]
  },
  {
   "cell_type": "code",
   "execution_count": 244,
   "id": "08a01394",
   "metadata": {},
   "outputs": [],
   "source": [
    "mode4=data[\"housing_status\"].mode()[0]"
   ]
  },
  {
   "cell_type": "code",
   "execution_count": 245,
   "id": "b3a09cf8",
   "metadata": {},
   "outputs": [],
   "source": [
    "data[\"housing_status\"]=data[\"housing_status\"].replace(np.nan,mode4)"
   ]
  },
  {
   "cell_type": "code",
   "execution_count": 246,
   "id": "c418accd",
   "metadata": {},
   "outputs": [],
   "source": [
    "mode5=data[\"employment\"].mode()[0]"
   ]
  },
  {
   "cell_type": "code",
   "execution_count": 247,
   "id": "d5739362",
   "metadata": {},
   "outputs": [],
   "source": [
    "data[\"employment\"]=data[\"employment\"].replace(np.nan,mode5)"
   ]
  },
  {
   "cell_type": "code",
   "execution_count": 248,
   "id": "72c4c0bc",
   "metadata": {},
   "outputs": [
    {
     "data": {
      "text/plain": [
       "0.8864993574722201"
      ]
     },
     "execution_count": 248,
     "metadata": {},
     "output_type": "execute_result"
    }
   ],
   "source": [
    "median18=data[\"no_of_adults\"].mean()\n",
    "median18"
   ]
  },
  {
   "cell_type": "code",
   "execution_count": 249,
   "id": "376c9008",
   "metadata": {},
   "outputs": [],
   "source": [
    "data[\"no_of_adults\"]=data[\"no_of_adults\"].replace(np.nan,median18)"
   ]
  },
  {
   "cell_type": "code",
   "execution_count": 250,
   "id": "2ddb4f19",
   "metadata": {},
   "outputs": [
    {
     "data": {
      "text/plain": [
       "0.5345831128581148"
      ]
     },
     "execution_count": 250,
     "metadata": {},
     "output_type": "execute_result"
    }
   ],
   "source": [
    "median19=data[\"no_of_children\"].mean()\n",
    "median19"
   ]
  },
  {
   "cell_type": "code",
   "execution_count": 251,
   "id": "b8901661",
   "metadata": {},
   "outputs": [],
   "source": [
    "data[\"no_of_children\"]=data[\"no_of_children\"].replace(np.nan,median19)"
   ]
  },
  {
   "cell_type": "code",
   "execution_count": 252,
   "id": "2555941c",
   "metadata": {},
   "outputs": [
    {
     "data": {
      "text/plain": [
       "0.8797200859142243"
      ]
     },
     "execution_count": 252,
     "metadata": {},
     "output_type": "execute_result"
    }
   ],
   "source": [
    "median20=data[\"has_health_insur\"].mean()\n",
    "median20"
   ]
  },
  {
   "cell_type": "code",
   "execution_count": 253,
   "id": "8d0bab03",
   "metadata": {},
   "outputs": [],
   "source": [
    "data[\"has_health_insur\"]=data[\"has_health_insur\"].replace(np.nan,median20)"
   ]
  },
  {
   "cell_type": "code",
   "execution_count": 254,
   "id": "201e38ea",
   "metadata": {},
   "outputs": [],
   "source": [
    "data.dropna(inplace=True)"
   ]
  },
  {
   "cell_type": "code",
   "execution_count": 255,
   "id": "1bb72c8b",
   "metadata": {},
   "outputs": [
    {
     "data": {
      "text/plain": [
       "h1n1_worry                   0\n",
       "h1n1_awareness               0\n",
       "antiviral_medication         0\n",
       "contact_avoidance            0\n",
       "bought_face_mask             0\n",
       "wash_hands_frequently        0\n",
       "avoid_large_gatherings       0\n",
       "reduced_outside_home_cont    0\n",
       "avoid_touch_face             0\n",
       "dr_recc_h1n1_vacc            0\n",
       "dr_recc_seasonal_vacc        0\n",
       "chronic_medic_condition      0\n",
       "cont_child_undr_6_mnths      0\n",
       "is_health_worker             0\n",
       "has_health_insur             0\n",
       "is_h1n1_vacc_effective       0\n",
       "is_h1n1_risky                0\n",
       "sick_from_h1n1_vacc          0\n",
       "is_seas_vacc_effective       0\n",
       "is_seas_risky                0\n",
       "sick_from_seas_vacc          0\n",
       "age_bracket                  0\n",
       "qualification                0\n",
       "race                         0\n",
       "sex                          0\n",
       "income_level                 0\n",
       "marital_status               0\n",
       "housing_status               0\n",
       "employment                   0\n",
       "census_msa                   0\n",
       "no_of_adults                 0\n",
       "no_of_children               0\n",
       "h1n1_vaccine                 0\n",
       "dtype: int64"
      ]
     },
     "execution_count": 255,
     "metadata": {},
     "output_type": "execute_result"
    }
   ],
   "source": [
    "data.isnull().sum()"
   ]
  },
  {
   "cell_type": "code",
   "execution_count": 256,
   "id": "30c4ab4f",
   "metadata": {},
   "outputs": [],
   "source": [
    "data=pd.get_dummies(data,columns=[\"age_bracket\",\"qualification\",\"race\",\"sex\",\"income_level\",\"marital_status\",\"housing_status\",\"employment\",\"census_msa\"])"
   ]
  },
  {
   "cell_type": "code",
   "execution_count": 257,
   "id": "7917a09d",
   "metadata": {},
   "outputs": [
    {
     "data": {
      "text/plain": [
       "h1n1_worry                                float64\n",
       "h1n1_awareness                            float64\n",
       "antiviral_medication                      float64\n",
       "contact_avoidance                         float64\n",
       "bought_face_mask                          float64\n",
       "wash_hands_frequently                     float64\n",
       "avoid_large_gatherings                    float64\n",
       "reduced_outside_home_cont                 float64\n",
       "avoid_touch_face                          float64\n",
       "dr_recc_h1n1_vacc                         float64\n",
       "dr_recc_seasonal_vacc                     float64\n",
       "chronic_medic_condition                   float64\n",
       "cont_child_undr_6_mnths                   float64\n",
       "is_health_worker                          float64\n",
       "has_health_insur                          float64\n",
       "is_h1n1_vacc_effective                    float64\n",
       "is_h1n1_risky                             float64\n",
       "sick_from_h1n1_vacc                       float64\n",
       "is_seas_vacc_effective                    float64\n",
       "is_seas_risky                             float64\n",
       "sick_from_seas_vacc                       float64\n",
       "no_of_adults                              float64\n",
       "no_of_children                            float64\n",
       "h1n1_vaccine                                int64\n",
       "age_bracket_18 - 34 Years                   uint8\n",
       "age_bracket_35 - 44 Years                   uint8\n",
       "age_bracket_45 - 54 Years                   uint8\n",
       "age_bracket_55 - 64 Years                   uint8\n",
       "age_bracket_65+ Years                       uint8\n",
       "qualification_12 Years                      uint8\n",
       "qualification_< 12 Years                    uint8\n",
       "qualification_College Graduate              uint8\n",
       "qualification_Some College                  uint8\n",
       "race_Black                                  uint8\n",
       "race_Hispanic                               uint8\n",
       "race_Other or Multiple                      uint8\n",
       "race_White                                  uint8\n",
       "sex_Female                                  uint8\n",
       "sex_Male                                    uint8\n",
       "income_level_<= $75,000, Above Poverty      uint8\n",
       "income_level_> $75,000                      uint8\n",
       "income_level_Below Poverty                  uint8\n",
       "marital_status_Married                      uint8\n",
       "marital_status_Not Married                  uint8\n",
       "housing_status_Own                          uint8\n",
       "housing_status_Rent                         uint8\n",
       "employment_Employed                         uint8\n",
       "employment_Not in Labor Force               uint8\n",
       "employment_Unemployed                       uint8\n",
       "census_msa_MSA, Not Principle  City         uint8\n",
       "census_msa_MSA, Principle City              uint8\n",
       "census_msa_Non-MSA                          uint8\n",
       "dtype: object"
      ]
     },
     "execution_count": 257,
     "metadata": {},
     "output_type": "execute_result"
    }
   ],
   "source": [
    "data.dtypes"
   ]
  },
  {
   "cell_type": "code",
   "execution_count": 258,
   "id": "0166b3a7",
   "metadata": {},
   "outputs": [],
   "source": [
    "X=data.drop(['h1n1_vaccine'],axis=1)\n",
    "Y=data[['h1n1_vaccine']]"
   ]
  },
  {
   "cell_type": "code",
   "execution_count": 259,
   "id": "d1022be8",
   "metadata": {},
   "outputs": [],
   "source": [
    "Xtrain,Xtest,Ytrain,Ytest=train_test_split(X,Y,test_size=0.30,random_state=1)"
   ]
  },
  {
   "cell_type": "code",
   "execution_count": 260,
   "id": "6e64c7d3",
   "metadata": {},
   "outputs": [],
   "source": [
    "import warnings\n",
    "warnings.filterwarnings(\"ignore\")"
   ]
  },
  {
   "cell_type": "code",
   "execution_count": 261,
   "id": "da861b1a",
   "metadata": {},
   "outputs": [
    {
     "data": {
      "text/html": [
       "<style>#sk-container-id-9 {color: black;background-color: white;}#sk-container-id-9 pre{padding: 0;}#sk-container-id-9 div.sk-toggleable {background-color: white;}#sk-container-id-9 label.sk-toggleable__label {cursor: pointer;display: block;width: 100%;margin-bottom: 0;padding: 0.3em;box-sizing: border-box;text-align: center;}#sk-container-id-9 label.sk-toggleable__label-arrow:before {content: \"▸\";float: left;margin-right: 0.25em;color: #696969;}#sk-container-id-9 label.sk-toggleable__label-arrow:hover:before {color: black;}#sk-container-id-9 div.sk-estimator:hover label.sk-toggleable__label-arrow:before {color: black;}#sk-container-id-9 div.sk-toggleable__content {max-height: 0;max-width: 0;overflow: hidden;text-align: left;background-color: #f0f8ff;}#sk-container-id-9 div.sk-toggleable__content pre {margin: 0.2em;color: black;border-radius: 0.25em;background-color: #f0f8ff;}#sk-container-id-9 input.sk-toggleable__control:checked~div.sk-toggleable__content {max-height: 200px;max-width: 100%;overflow: auto;}#sk-container-id-9 input.sk-toggleable__control:checked~label.sk-toggleable__label-arrow:before {content: \"▾\";}#sk-container-id-9 div.sk-estimator input.sk-toggleable__control:checked~label.sk-toggleable__label {background-color: #d4ebff;}#sk-container-id-9 div.sk-label input.sk-toggleable__control:checked~label.sk-toggleable__label {background-color: #d4ebff;}#sk-container-id-9 input.sk-hidden--visually {border: 0;clip: rect(1px 1px 1px 1px);clip: rect(1px, 1px, 1px, 1px);height: 1px;margin: -1px;overflow: hidden;padding: 0;position: absolute;width: 1px;}#sk-container-id-9 div.sk-estimator {font-family: monospace;background-color: #f0f8ff;border: 1px dotted black;border-radius: 0.25em;box-sizing: border-box;margin-bottom: 0.5em;}#sk-container-id-9 div.sk-estimator:hover {background-color: #d4ebff;}#sk-container-id-9 div.sk-parallel-item::after {content: \"\";width: 100%;border-bottom: 1px solid gray;flex-grow: 1;}#sk-container-id-9 div.sk-label:hover label.sk-toggleable__label {background-color: #d4ebff;}#sk-container-id-9 div.sk-serial::before {content: \"\";position: absolute;border-left: 1px solid gray;box-sizing: border-box;top: 0;bottom: 0;left: 50%;z-index: 0;}#sk-container-id-9 div.sk-serial {display: flex;flex-direction: column;align-items: center;background-color: white;padding-right: 0.2em;padding-left: 0.2em;position: relative;}#sk-container-id-9 div.sk-item {position: relative;z-index: 1;}#sk-container-id-9 div.sk-parallel {display: flex;align-items: stretch;justify-content: center;background-color: white;position: relative;}#sk-container-id-9 div.sk-item::before, #sk-container-id-9 div.sk-parallel-item::before {content: \"\";position: absolute;border-left: 1px solid gray;box-sizing: border-box;top: 0;bottom: 0;left: 50%;z-index: -1;}#sk-container-id-9 div.sk-parallel-item {display: flex;flex-direction: column;z-index: 1;position: relative;background-color: white;}#sk-container-id-9 div.sk-parallel-item:first-child::after {align-self: flex-end;width: 50%;}#sk-container-id-9 div.sk-parallel-item:last-child::after {align-self: flex-start;width: 50%;}#sk-container-id-9 div.sk-parallel-item:only-child::after {width: 0;}#sk-container-id-9 div.sk-dashed-wrapped {border: 1px dashed gray;margin: 0 0.4em 0.5em 0.4em;box-sizing: border-box;padding-bottom: 0.4em;background-color: white;}#sk-container-id-9 div.sk-label label {font-family: monospace;font-weight: bold;display: inline-block;line-height: 1.2em;}#sk-container-id-9 div.sk-label-container {text-align: center;}#sk-container-id-9 div.sk-container {/* jupyter's `normalize.less` sets `[hidden] { display: none; }` but bootstrap.min.css set `[hidden] { display: none !important; }` so we also need the `!important` here to be able to override the default hidden behavior on the sphinx rendered scikit-learn.org. See: https://github.com/scikit-learn/scikit-learn/issues/21755 */display: inline-block !important;position: relative;}#sk-container-id-9 div.sk-text-repr-fallback {display: none;}</style><div id=\"sk-container-id-9\" class=\"sk-top-container\"><div class=\"sk-text-repr-fallback\"><pre>LogisticRegression()</pre><b>In a Jupyter environment, please rerun this cell to show the HTML representation or trust the notebook. <br />On GitHub, the HTML representation is unable to render, please try loading this page with nbviewer.org.</b></div><div class=\"sk-container\" hidden><div class=\"sk-item\"><div class=\"sk-estimator sk-toggleable\"><input class=\"sk-toggleable__control sk-hidden--visually\" id=\"sk-estimator-id-9\" type=\"checkbox\" checked><label for=\"sk-estimator-id-9\" class=\"sk-toggleable__label sk-toggleable__label-arrow\">LogisticRegression</label><div class=\"sk-toggleable__content\"><pre>LogisticRegression()</pre></div></div></div></div></div>"
      ],
      "text/plain": [
       "LogisticRegression()"
      ]
     },
     "execution_count": 261,
     "metadata": {},
     "output_type": "execute_result"
    }
   ],
   "source": [
    "model=LogisticRegression(solver=\"lbfgs\")\n",
    "model.fit(Xtrain,Ytrain)\n",
    "model"
   ]
  },
  {
   "cell_type": "code",
   "execution_count": 262,
   "id": "39aa87e1",
   "metadata": {},
   "outputs": [],
   "source": [
    "predictions=model.predict(Xtest)"
   ]
  },
  {
   "cell_type": "code",
   "execution_count": 263,
   "id": "309bfb20",
   "metadata": {},
   "outputs": [
    {
     "data": {
      "text/plain": [
       "0.8383689107827039"
      ]
     },
     "execution_count": 263,
     "metadata": {},
     "output_type": "execute_result"
    }
   ],
   "source": [
    "model.score(Xtrain,Ytrain)"
   ]
  },
  {
   "cell_type": "code",
   "execution_count": 264,
   "id": "6cc7746c",
   "metadata": {},
   "outputs": [
    {
     "data": {
      "text/plain": [
       "0.8316730523627075"
      ]
     },
     "execution_count": 264,
     "metadata": {},
     "output_type": "execute_result"
    }
   ],
   "source": [
    "model.score(Xtest,Ytest)"
   ]
  },
  {
   "cell_type": "code",
   "execution_count": 265,
   "id": "a3836206",
   "metadata": {},
   "outputs": [
    {
     "data": {
      "text/plain": [
       "0.8316730523627075"
      ]
     },
     "execution_count": 265,
     "metadata": {},
     "output_type": "execute_result"
    }
   ],
   "source": [
    "from sklearn.metrics import accuracy_score\n",
    "accuracy_score(Ytest,predictions)"
   ]
  },
  {
   "cell_type": "code",
   "execution_count": 266,
   "id": "d9911fc2",
   "metadata": {},
   "outputs": [],
   "source": [
    "from sklearn import metrics"
   ]
  },
  {
   "cell_type": "code",
   "execution_count": 267,
   "id": "41ae503d",
   "metadata": {},
   "outputs": [
    {
     "name": "stdout",
     "output_type": "stream",
     "text": [
      "              precision    recall  f1-score   support\n",
      "\n",
      "           0       0.85      0.95      0.90      6141\n",
      "           1       0.68      0.41      0.51      1689\n",
      "\n",
      "    accuracy                           0.83      7830\n",
      "   macro avg       0.77      0.68      0.71      7830\n",
      "weighted avg       0.82      0.83      0.82      7830\n",
      "\n"
     ]
    }
   ],
   "source": [
    "print(metrics.classification_report(Ytest,predictions))"
   ]
  },
  {
   "cell_type": "code",
   "execution_count": 268,
   "id": "7c3b8b4c",
   "metadata": {},
   "outputs": [
    {
     "data": {
      "text/plain": [
       "<Axes: >"
      ]
     },
     "execution_count": 268,
     "metadata": {},
     "output_type": "execute_result"
    },
    {
     "data": {
      "image/png": "[encoded data removed]",
      "text/plain": [
       "<Figure size 700x500 with 2 Axes>"
      ]
     },
     "metadata": {},
     "output_type": "display_data"
    }
   ],
   "source": [
    "cm=metrics.confusion_matrix(Ytest,predictions,labels=[1,0])\n",
    "data_cm=pd.DataFrame(cm, index=[i for i in [\"1\",\"0\"]],\n",
    "                    columns=[i for i in [\"Predict 1\",\"Predict 0\"]])\n",
    "plt.figure(figsize=(7,5))\n",
    "sns.heatmap(data_cm,annot=True,fmt='g')"
   ]
  },
  {
   "cell_type": "code",
   "execution_count": 269,
   "id": "744cdd4f",
   "metadata": {},
   "outputs": [],
   "source": [
    "from sklearn.tree import DecisionTreeRegressor"
   ]
  },
  {
   "cell_type": "code",
   "execution_count": 270,
   "id": "728ae13e",
   "metadata": {},
   "outputs": [],
   "source": [
    "model2=DecisionTreeRegressor(max_depth=6)"
   ]
  },
  {
   "cell_type": "code",
   "execution_count": 271,
   "id": "7c6882d5",
   "metadata": {},
   "outputs": [
    {
     "data": {
      "text/html": [
       "<style>#sk-container-id-10 {color: black;background-color: white;}#sk-container-id-10 pre{padding: 0;}#sk-container-id-10 div.sk-toggleable {background-color: white;}#sk-container-id-10 label.sk-toggleable__label {cursor: pointer;display: block;width: 100%;margin-bottom: 0;padding: 0.3em;box-sizing: border-box;text-align: center;}#sk-container-id-10 label.sk-toggleable__label-arrow:before {content: \"▸\";float: left;margin-right: 0.25em;color: #696969;}#sk-container-id-10 label.sk-toggleable__label-arrow:hover:before {color: black;}#sk-container-id-10 div.sk-estimator:hover label.sk-toggleable__label-arrow:before {color: black;}#sk-container-id-10 div.sk-toggleable__content {max-height: 0;max-width: 0;overflow: hidden;text-align: left;background-color: #f0f8ff;}#sk-container-id-10 div.sk-toggleable__content pre {margin: 0.2em;color: black;border-radius: 0.25em;background-color: #f0f8ff;}#sk-container-id-10 input.sk-toggleable__control:checked~div.sk-toggleable__content {max-height: 200px;max-width: 100%;overflow: auto;}#sk-container-id-10 input.sk-toggleable__control:checked~label.sk-toggleable__label-arrow:before {content: \"▾\";}#sk-container-id-10 div.sk-estimator input.sk-toggleable__control:checked~label.sk-toggleable__label {background-color: #d4ebff;}#sk-container-id-10 div.sk-label input.sk-toggleable__control:checked~label.sk-toggleable__label {background-color: #d4ebff;}#sk-container-id-10 input.sk-hidden--visually {border: 0;clip: rect(1px 1px 1px 1px);clip: rect(1px, 1px, 1px, 1px);height: 1px;margin: -1px;overflow: hidden;padding: 0;position: absolute;width: 1px;}#sk-container-id-10 div.sk-estimator {font-family: monospace;background-color: #f0f8ff;border: 1px dotted black;border-radius: 0.25em;box-sizing: border-box;margin-bottom: 0.5em;}#sk-container-id-10 div.sk-estimator:hover {background-color: #d4ebff;}#sk-container-id-10 div.sk-parallel-item::after {content: \"\";width: 100%;border-bottom: 1px solid gray;flex-grow: 1;}#sk-container-id-10 div.sk-label:hover label.sk-toggleable__label {background-color: #d4ebff;}#sk-container-id-10 div.sk-serial::before {content: \"\";position: absolute;border-left: 1px solid gray;box-sizing: border-box;top: 0;bottom: 0;left: 50%;z-index: 0;}#sk-container-id-10 div.sk-serial {display: flex;flex-direction: column;align-items: center;background-color: white;padding-right: 0.2em;padding-left: 0.2em;position: relative;}#sk-container-id-10 div.sk-item {position: relative;z-index: 1;}#sk-container-id-10 div.sk-parallel {display: flex;align-items: stretch;justify-content: center;background-color: white;position: relative;}#sk-container-id-10 div.sk-item::before, #sk-container-id-10 div.sk-parallel-item::before {content: \"\";position: absolute;border-left: 1px solid gray;box-sizing: border-box;top: 0;bottom: 0;left: 50%;z-index: -1;}#sk-container-id-10 div.sk-parallel-item {display: flex;flex-direction: column;z-index: 1;position: relative;background-color: white;}#sk-container-id-10 div.sk-parallel-item:first-child::after {align-self: flex-end;width: 50%;}#sk-container-id-10 div.sk-parallel-item:last-child::after {align-self: flex-start;width: 50%;}#sk-container-id-10 div.sk-parallel-item:only-child::after {width: 0;}#sk-container-id-10 div.sk-dashed-wrapped {border: 1px dashed gray;margin: 0 0.4em 0.5em 0.4em;box-sizing: border-box;padding-bottom: 0.4em;background-color: white;}#sk-container-id-10 div.sk-label label {font-family: monospace;font-weight: bold;display: inline-block;line-height: 1.2em;}#sk-container-id-10 div.sk-label-container {text-align: center;}#sk-container-id-10 div.sk-container {/* jupyter's `normalize.less` sets `[hidden] { display: none; }` but bootstrap.min.css set `[hidden] { display: none !important; }` so we also need the `!important` here to be able to override the default hidden behavior on the sphinx rendered scikit-learn.org. See: https://github.com/scikit-learn/scikit-learn/issues/21755 */display: inline-block !important;position: relative;}#sk-container-id-10 div.sk-text-repr-fallback {display: none;}</style><div id=\"sk-container-id-10\" class=\"sk-top-container\"><div class=\"sk-text-repr-fallback\"><pre>DecisionTreeRegressor(max_depth=6)</pre><b>In a Jupyter environment, please rerun this cell to show the HTML representation or trust the notebook. <br />On GitHub, the HTML representation is unable to render, please try loading this page with nbviewer.org.</b></div><div class=\"sk-container\" hidden><div class=\"sk-item\"><div class=\"sk-estimator sk-toggleable\"><input class=\"sk-toggleable__control sk-hidden--visually\" id=\"sk-estimator-id-10\" type=\"checkbox\" checked><label for=\"sk-estimator-id-10\" class=\"sk-toggleable__label sk-toggleable__label-arrow\">DecisionTreeRegressor</label><div class=\"sk-toggleable__content\"><pre>DecisionTreeRegressor(max_depth=6)</pre></div></div></div></div></div>"
      ],
      "text/plain": [
       "DecisionTreeRegressor(max_depth=6)"
      ]
     },
     "execution_count": 271,
     "metadata": {},
     "output_type": "execute_result"
    }
   ],
   "source": [
    "model2.fit(Xtrain,Ytrain)"
   ]
  },
  {
   "cell_type": "code",
   "execution_count": 272,
   "id": "0a63d7ea",
   "metadata": {},
   "outputs": [
    {
     "data": {
      "text/plain": [
       "0.35852637769952"
      ]
     },
     "execution_count": 272,
     "metadata": {},
     "output_type": "execute_result"
    }
   ],
   "source": [
    "model2.score(Xtrain,Ytrain)"
   ]
  },
  {
   "cell_type": "code",
   "execution_count": 273,
   "id": "0edca852",
   "metadata": {},
   "outputs": [
    {
     "data": {
      "text/plain": [
       "0.31010333567032455"
      ]
     },
     "execution_count": 273,
     "metadata": {},
     "output_type": "execute_result"
    }
   ],
   "source": [
    "model2.score(Xtest,Ytest)"
   ]
  }
 ],
 "metadata": {
  "kernelspec": {
   "display_name": "Python 3 (ipykernel)",
   "language": "python",
   "name": "python3"
  },
  "language_info": {
   "codemirror_mode": {
    "name": "ipython",
    "version": 3
   },
   "file_extension": ".py",
   "mimetype": "text/x-python",
   "name": "python",
   "nbconvert_exporter": "python",
   "pygments_lexer": "ipython3",
   "version": "3.11.3"
  }
 },
 "nbformat": 4,
 "nbformat_minor": 5
}
